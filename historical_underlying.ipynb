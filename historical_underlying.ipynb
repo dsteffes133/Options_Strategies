{
 "cells": [
  {
   "cell_type": "code",
   "execution_count": 20,
   "metadata": {},
   "outputs": [],
   "source": [
    "def get_historical_underlying_data(ticker):\n",
    "\n",
    "    api_key = '8CTF0D0WVXWCLBVF'\n",
    "\n",
    "    import requests\n",
    "    import pandas as pd\n",
    "    import requests\n",
    "\n",
    "\n",
    "    url = f'https://www.alphavantage.co/query?function=TIME_SERIES_DAILY_ADJUSTED&symbol={ticker}&apikey={api_key}'\n",
    "    r = requests.get(url)\n",
    "    data = r.json()\n",
    "\n",
    "     # Check if the expected key exists in the response\n",
    "    if \"Time Series (Daily)\" not in data:\n",
    "        raise ValueError(f\"Invalid response: {data}\")  # Print the response for debugging\n",
    "\n",
    "    # Convert the time series data to a DataFrame\n",
    "    df = pd.DataFrame.from_dict(data[\"Time Series (Daily)\"], orient=\"index\")\n",
    "\n",
    "    df = df.drop(columns=['7. dividend amount', '8. split coefficient'])\n",
    "\n",
    "    df = df.rename(columns={'1. open': 'Open', '2. high' : 'High', '3. low' : 'Low', '4. close' : 'Close', '5. adjusted close' : 'Adjusted Close', '6. volume' : 'Volume' })\n",
    "\n",
    "    return df\n",
    "\n"
   ]
  },
  {
   "cell_type": "code",
   "execution_count": 21,
   "metadata": {},
   "outputs": [],
   "source": [
    "df = get_historical_underlying_data('AAPL')"
   ]
  },
  {
   "cell_type": "code",
   "execution_count": 22,
   "metadata": {},
   "outputs": [
    {
     "name": "stdout",
     "output_type": "stream",
     "text": [
      "               Open    High      Low   Close Adjusted Close     Volume\n",
      "2025-02-06  231.285   233.8  230.425  233.22         233.22   29925349\n",
      "2025-02-05   228.53  232.67   228.27  232.47         232.47   39664989\n",
      "2025-02-04   227.25  233.13   226.65   232.8          232.8   45067301\n",
      "2025-02-03   229.99  231.83    225.7  228.01         228.01   73063301\n",
      "2025-01-31   247.19  247.19   233.44   236.0          236.0  101075128\n"
     ]
    }
   ],
   "source": [
    "print(df.head())"
   ]
  },
  {
   "cell_type": "code",
   "execution_count": 19,
   "metadata": {},
   "outputs": [],
   "source": [
    "df = df.rename(columns={'1. open': 'Open', '2. high' : 'High', '3. low' : 'Low', '4. close' : 'Close', '5. adjusted close' : 'Adjusted Close', '6. volume' : 'Volume' })"
   ]
  },
  {
   "cell_type": "code",
   "execution_count": null,
   "metadata": {},
   "outputs": [],
   "source": []
  }
 ],
 "metadata": {
  "kernelspec": {
   "display_name": "base",
   "language": "python",
   "name": "python3"
  },
  "language_info": {
   "codemirror_mode": {
    "name": "ipython",
    "version": 3
   },
   "file_extension": ".py",
   "mimetype": "text/x-python",
   "name": "python",
   "nbconvert_exporter": "python",
   "pygments_lexer": "ipython3",
   "version": "3.11.5"
  }
 },
 "nbformat": 4,
 "nbformat_minor": 2
}
