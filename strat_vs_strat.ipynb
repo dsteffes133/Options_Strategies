{
 "cells": [
  {
   "cell_type": "markdown",
   "metadata": {},
   "source": [
    "## <font color = \"red\"> Strategy vs Strategy\n",
    "\n",
    "#### <font color  = \"silver\"> I want to run through every strategy, over every timeline, at every expiry/strike, on a ton of equities, and see if any of them succeed a surprising amount of times. Or if they succeed a surprising amount of times when specific macro, technical, or fundamental datapoints occur."
   ]
  },
  {
   "cell_type": "code",
   "execution_count": null,
   "metadata": {},
   "outputs": [],
   "source": [
    "#We will start with AAPL\n",
    "\n",
    "import requests\n",
    "import pandas as pd\n",
    "import numpy as np\n",
    "import matplotlib.pyplot as plt\n",
    "import seaborn as sns\n",
    "\n"
   ]
  }
 ],
 "metadata": {
  "kernelspec": {
   "display_name": "base",
   "language": "python",
   "name": "python3"
  },
  "language_info": {
   "name": "python",
   "version": "3.11.5"
  }
 },
 "nbformat": 4,
 "nbformat_minor": 2
}
