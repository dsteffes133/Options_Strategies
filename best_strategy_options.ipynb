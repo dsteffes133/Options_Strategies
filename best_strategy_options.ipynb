{
 "cells": [
  {
   "cell_type": "markdown",
   "metadata": {},
   "source": [
    "## A workshop to develop an options valuation model.\n",
    "\n",
    "#### The options valuation model should allow me to present historical data regarding an equity and its derivatives (puts and calls) and receive all the information I would need to determine what contract best serves my thesis."
   ]
  },
  {
   "cell_type": "code",
   "execution_count": 1,
   "metadata": {},
   "outputs": [],
   "source": [
    "#Pseudocode\n",
    "\n",
    "#def function_to_determine_tool(the thesis, the toolkit, the bank account):\n",
    "#The thesis:\n",
    "#It has a specific defined time period.\n",
    "#The thesis is instantiated on a specific defined asset. \n",
    "#The asset exists on a continuum of possible prices.\n",
    "#The thesis has an entry and exit strategy.\n",
    "#The toolkit:\n",
    "#Is every singular and combinatory tool that can be used on an asset.\n",
    "#Every single tool has a specific defined time period that must align with the thesis.\n",
    "#The bank account:\n",
    "#Helps you understand your capacities.\n",
    "#Helps you understand your risk tolerance.\n",
    "\n",
    "#Many of the aspects of all three are correlated and intertwined.\n",
    "\n",
    "#This is something we must consider as we work.\n"
   ]
  },
  {
   "cell_type": "markdown",
   "metadata": {},
   "source": [
    "## <font color = 'pink'> DATA COLLECTION AND EXPLORATION"
   ]
  },
  {
   "cell_type": "code",
   "execution_count": 2,
   "metadata": {},
   "outputs": [
    {
     "name": "stdout",
     "output_type": "stream",
     "text": [
      "Collecting QuantLib\n",
      "  Obtaining dependency information for QuantLib from https://files.pythonhosted.org/packages/e0/5a/25ff85724c6736843de961dd715c17e305062d7c5cdfa22d3863239bdeb9/QuantLib-1.37-cp38-abi3-win_amd64.whl.metadata\n",
      "  Downloading QuantLib-1.37-cp38-abi3-win_amd64.whl.metadata (1.1 kB)\n",
      "Downloading QuantLib-1.37-cp38-abi3-win_amd64.whl (12.9 MB)\n",
      "   ---------------------------------------- 0.0/12.9 MB ? eta -:--:--\n",
      "   ---------------------------------------- 0.0/12.9 MB 1.4 MB/s eta 0:00:10\n",
      "   - -------------------------------------- 0.5/12.9 MB 8.4 MB/s eta 0:00:02\n",
      "   --------- ------------------------------ 2.9/12.9 MB 23.2 MB/s eta 0:00:01\n",
      "   ------------------ --------------------- 6.0/12.9 MB 35.3 MB/s eta 0:00:01\n",
      "   ---------------------------- ----------- 9.1/12.9 MB 41.5 MB/s eta 0:00:01\n",
      "   ------------------------------------ --- 11.8/12.9 MB 59.5 MB/s eta 0:00:01\n",
      "   ---------------------------------------- 12.9/12.9 MB 50.4 MB/s eta 0:00:00\n",
      "Installing collected packages: QuantLib\n",
      "Successfully installed QuantLib-1.37\n",
      "Note: you may need to restart the kernel to use updated packages.\n"
     ]
    }
   ],
   "source": [
    "pip install QuantLib"
   ]
  },
  {
   "cell_type": "markdown",
   "metadata": {},
   "source": [
    "#### <font color = 'pink'> Ultimate Goal: Using just a thesis, a fund size, and an api key, I want the algorithim to select the best strategy of those listed on my CME sheet."
   ]
  },
  {
   "cell_type": "markdown",
   "metadata": {},
   "source": [
    "###### <font color = 'pink'> The best strat is determined by median and mean return over monte carlo simulation, best sharpe ratio, and best sterling ratio for now."
   ]
  },
  {
   "cell_type": "code",
   "execution_count": 32,
   "metadata": {},
   "outputs": [],
   "source": [
    "#We will use alpha vantage for basic data collection.\n",
    "#We will focus on AAPL, because it is so liquid and the data is so available.\n",
    "\n",
    "\n",
    "api_key = 'api_key'\n",
    "\n",
    "import requests\n",
    "import pandas as pd\n",
    "import numpy as np\n",
    "import QuantLib as ql\n",
    "import matplotlib.pyplot as plt\n",
    "import seaborn as sns"
   ]
  },
  {
   "cell_type": "code",
   "execution_count": 33,
   "metadata": {},
   "outputs": [],
   "source": [
    "def get_historical_options_data(ticker, api_key, begin_date, end_date):\n",
    "    # Initialize an empty dictionary\n",
    "    date_dict = {}\n",
    "\n",
    "    # Create a list (or generator) of dates in 'YYYY-MM-DD' format\n",
    "    all_dates = pd.date_range(begin_date, end_date, freq='D')\n",
    "    \n",
    "    # Loop through each date and fetch data\n",
    "    for single_date in all_dates:\n",
    "        date_str = single_date.strftime('%Y-%m-%d')\n",
    "        \n",
    "        url = f\"https://www.alphavantage.co/query?function=HISTORICAL_OPTIONS\" \\\n",
    "              f\"&symbol={ticker}&date={date_str}&apikey={api_key}\"\n",
    "        r = requests.get(url)\n",
    "        data = r.json()\n",
    "\n",
    "        # Some returns may be empty or have errors, so always check\n",
    "        if 'data' in data:\n",
    "            df = pd.DataFrame(data['data'])\n",
    "            # Store this date’s dataframe in the dictionary\n",
    "            date_dict[date_str] = df\n",
    "        else:\n",
    "            # Optionally store an empty DataFrame or log the issue\n",
    "            date_dict[date_str] = pd.DataFrame()\n",
    "\n",
    "    master_df = pd.concat(date_dict.values(), ignore_index=True)\n",
    "\n",
    "    return master_df\n"
   ]
  },
  {
   "cell_type": "code",
   "execution_count": null,
   "metadata": {},
   "outputs": [],
   "source": [
    "#Just got the idea to use stumpy to see similar historical options flow..."
   ]
  },
  {
   "cell_type": "code",
   "execution_count": 57,
   "metadata": {},
   "outputs": [
    {
     "name": "stdout",
     "output_type": "stream",
     "text": [
      "                contractID symbol  expiration  strike  type    last    mark  \\\n",
      "0      AAPL240105C00050000   AAPL  2024-01-05   50.00  call  144.80  135.32   \n",
      "1      AAPL240105P00050000   AAPL  2024-01-05   50.00   put    0.01    0.01   \n",
      "2      AAPL240105C00060000   AAPL  2024-01-05   60.00  call    0.00  125.33   \n",
      "3      AAPL240105P00060000   AAPL  2024-01-05   60.00   put    0.00    0.01   \n",
      "4      AAPL240105C00065000   AAPL  2024-01-05   65.00  call    0.00  120.33   \n",
      "...                    ...    ...         ...     ...   ...     ...     ...   \n",
      "43961  AAPL260618P00290000   AAPL  2026-06-18  290.00   put    0.00  105.25   \n",
      "43962  AAPL260618C00300000   AAPL  2026-06-18  300.00  call    3.02    3.00   \n",
      "43963  AAPL260618P00300000   AAPL  2026-06-18  300.00   put  110.00  115.50   \n",
      "43964  AAPL260618C00310000   AAPL  2026-06-18  310.00  call    2.41    2.50   \n",
      "43965  AAPL260618P00310000   AAPL  2026-06-18  310.00   put  125.50  125.50   \n",
      "\n",
      "          bid bid_size     ask ask_size volume open_interest        date  \\\n",
      "0      134.75       60  135.90       15      0             2  2024-01-02   \n",
      "1        0.00        0    0.01      129      1             0  2024-01-02   \n",
      "2      124.75       60  125.90        3      0             0  2024-01-02   \n",
      "3        0.00        0    0.01      111      0             0  2024-01-02   \n",
      "4      119.75       60  120.90        5      0             0  2024-01-02   \n",
      "...       ...      ...     ...      ...    ...           ...         ...   \n",
      "43961  103.00       20  107.50        1      0             0  2024-01-31   \n",
      "43962    2.90        1    3.10        2     60            86  2024-01-31   \n",
      "43963  113.00       20  118.00       20      0             0  2024-01-31   \n",
      "43964    2.35        1    2.65        1    679           898  2024-01-31   \n",
      "43965  123.00       20  128.00       20      0             0  2024-01-31   \n",
      "\n",
      "      implied_volatility     delta    gamma     theta     vega       rho  \n",
      "0                2.93178   1.00000  0.00000  -0.02664  0.00000   0.00411  \n",
      "1                4.64380  -0.00044  0.00002  -0.07475  0.00026  -0.00001  \n",
      "2                2.71564   1.00000  0.00000  -0.03197  0.00000   0.00493  \n",
      "3                4.01608  -0.00051  0.00003  -0.07427  0.00030  -0.00001  \n",
      "4                2.60756   1.00000  0.00000  -0.03463  0.00000   0.00534  \n",
      "...                  ...       ...      ...       ...      ...       ...  \n",
      "43961            0.48430  -0.52490  0.00289  -0.00754  1.13289  -4.81020  \n",
      "43962            0.18340   0.12926  0.00404  -0.03420  0.59952   0.49603  \n",
      "43963            0.51281  -0.52355  0.00273  -0.00902  1.13312  -5.04827  \n",
      "43964            0.18568   0.10992  0.00356  -0.03032  0.53474   0.42310  \n",
      "43965            0.53826  -0.52289  0.00260  -0.00982  1.13323  -5.28341  \n",
      "\n",
      "[43966 rows x 20 columns]\n"
     ]
    }
   ],
   "source": [
    "df = get_historical_options_data('AAPL', api_key, '2024-01-01', '2024-01-31')\n",
    "print(df)"
   ]
  },
  {
   "cell_type": "code",
   "execution_count": 58,
   "metadata": {},
   "outputs": [
    {
     "name": "stdout",
     "output_type": "stream",
     "text": [
      "<class 'pandas.core.frame.DataFrame'>\n"
     ]
    }
   ],
   "source": [
    "print(type(df))"
   ]
  },
  {
   "cell_type": "code",
   "execution_count": 59,
   "metadata": {},
   "outputs": [],
   "source": [
    "#Any option with less volume than 250 over our time period is not worth considering.\n",
    "\n",
    "def volume_filter(df):\n",
    "    # 1) Convert volume to numeric\n",
    "    df['volume'] = pd.to_numeric(df['volume'], errors='coerce').fillna(0)\n",
    "\n",
    "# 2) Compute sums on the *unfiltered* DataFrame\n",
    "    df['volume_summed'] = df.groupby('contractID')['volume'].transform('sum')\n",
    "\n",
    "# 3) Now filter\n",
    "    df = df[df['volume_summed'] > 250]\n",
    "    return df"
   ]
  },
  {
   "cell_type": "code",
   "execution_count": 60,
   "metadata": {},
   "outputs": [
    {
     "name": "stdout",
     "output_type": "stream",
     "text": [
      "             contractID symbol  expiration  strike  type   last   mark    bid  \\\n",
      "43  AAPL240105P00160000   AAPL  2024-01-05  160.00   put   0.02   0.01   0.00   \n",
      "45  AAPL240105P00162500   AAPL  2024-01-05  162.50   put   0.02   0.01   0.00   \n",
      "47  AAPL240105P00165000   AAPL  2024-01-05  165.00   put   0.02   0.02   0.01   \n",
      "49  AAPL240105P00167500   AAPL  2024-01-05  167.50   put   0.02   0.03   0.02   \n",
      "50  AAPL240105C00170000   AAPL  2024-01-05  170.00  call  15.71  15.75  15.20   \n",
      "51  AAPL240105P00170000   AAPL  2024-01-05  170.00   put   0.03   0.03   0.02   \n",
      "52  AAPL240105C00172500   AAPL  2024-01-05  172.50  call  12.29  12.95  12.35   \n",
      "53  AAPL240105P00172500   AAPL  2024-01-05  172.50   put   0.03   0.03   0.01   \n",
      "54  AAPL240105C00175000   AAPL  2024-01-05  175.00  call  10.80  10.62  10.40   \n",
      "55  AAPL240105P00175000   AAPL  2024-01-05  175.00   put   0.05   0.06   0.05   \n",
      "56  AAPL240105C00177500   AAPL  2024-01-05  177.50  call   7.50   8.28   8.00   \n",
      "57  AAPL240105P00177500   AAPL  2024-01-05  177.50   put   0.09   0.08   0.08   \n",
      "58  AAPL240105C00180000   AAPL  2024-01-05  180.00  call   5.90   5.50   5.10   \n",
      "59  AAPL240105P00180000   AAPL  2024-01-05  180.00   put   0.17   0.18   0.17   \n",
      "60  AAPL240105C00182500   AAPL  2024-01-05  182.50  call   3.75   3.70   3.60   \n",
      "\n",
      "   bid_size    ask  ... volume  open_interest        date implied_volatility  \\\n",
      "43        0   0.02  ...    602            430  2024-01-02            0.60854   \n",
      "45        0   0.02  ...     47              0  2024-01-02            0.55092   \n",
      "47        1   0.03  ...   1145            570  2024-01-02            0.53339   \n",
      "49       20   0.03  ...    366            644  2024-01-02            0.49741   \n",
      "50        1  16.30  ...    563            243  2024-01-02            0.44467   \n",
      "51       24   0.03  ...   1441           1014  2024-01-02            0.43446   \n",
      "52        2  13.55  ...    126             27  2024-01-02            0.28401   \n",
      "53      139   0.04  ...   1119            874  2024-01-02            0.37135   \n",
      "54       52  10.85  ...    412            296  2024-01-02            0.22998   \n",
      "55        2   0.06  ...   5425           1360  2024-01-02            0.34299   \n",
      "56        1   8.55  ...    113            161  2024-01-02            0.27516   \n",
      "57       50   0.09  ...  11678           1077  2024-01-02            0.28827   \n",
      "58        2   5.90  ...   2223            912  2024-01-02            0.12191   \n",
      "59     1194   0.19  ...  31411           4364  2024-01-02            0.25824   \n",
      "60       22   3.80  ...   4755            459  2024-01-02            0.24041   \n",
      "\n",
      "       delta    gamma     theta     vega       rho volume_summed  \n",
      "43  -0.00317  0.00094  -0.05958  0.00162  -0.00005           844  \n",
      "45  -0.00347  0.00113  -0.05855  0.00176  -0.00005          2445  \n",
      "47  -0.00674  0.00210  -0.10229  0.00317  -0.00010          5873  \n",
      "49  -0.01038  0.00329  -0.13913  0.00463  -0.00016         10964  \n",
      "50   0.98659  0.00459  -0.24575  0.00579   0.01376           994  \n",
      "51  -0.01175  0.00419  -0.13521  0.00516  -0.00018         10112  \n",
      "52   1.00000  0.00000  -0.09190  0.00000   0.01417           493  \n",
      "53  -0.01354  0.00555  -0.13045  0.00583  -0.00021         20043  \n",
      "54   1.00000  0.00000  -0.09323  0.00000   0.01438          4161  \n",
      "55  -0.02694  0.01078  -0.21581  0.01047  -0.00042         38765  \n",
      "56   0.96618  0.01622  -0.30280  0.01264   0.01406          2457  \n",
      "57  -0.04045  0.01792  -0.25260  0.01463  -0.00062         88994  \n",
      "58   1.00000  0.00000  -0.09590  0.00000   0.01479         43941  \n",
      "59  -0.08879  0.03699  -0.41618  0.02706  -0.00137        266818  \n",
      "60   0.79209  0.07081  -0.78159  0.04822   0.01178        222230  \n",
      "\n",
      "[15 rows x 21 columns]\n"
     ]
    }
   ],
   "source": [
    "filtered_df = volume_filter(df)\n",
    "print(filtered_df.head(15))"
   ]
  },
  {
   "cell_type": "code",
   "execution_count": 68,
   "metadata": {},
   "outputs": [
    {
     "data": {
      "text/plain": [
       "Index(['contractID', 'symbol', 'expiration', 'strike', 'type', 'last', 'mark',\n",
       "       'bid', 'bid_size', 'ask', 'ask_size', 'volume', 'open_interest', 'date',\n",
       "       'implied_volatility', 'delta', 'gamma', 'theta', 'vega', 'rho',\n",
       "       'volume_summed'],\n",
       "      dtype='object')"
      ]
     },
     "execution_count": 68,
     "metadata": {},
     "output_type": "execute_result"
    }
   ],
   "source": [
    "filtered_df.columns"
   ]
  },
  {
   "cell_type": "code",
   "execution_count": 63,
   "metadata": {},
   "outputs": [
    {
     "name": "stdout",
     "output_type": "stream",
     "text": [
      "The number of calls are 10202 and the number of puts are 8659\n"
     ]
    }
   ],
   "source": [
    "calls = (filtered_df['type'] == 'call').sum()\n",
    "puts = (filtered_df['type'] == 'put').sum()\n",
    "\n",
    "print(f\"The number of calls are {calls} and the number of puts are {puts}\")"
   ]
  },
  {
   "cell_type": "code",
   "execution_count": 67,
   "metadata": {},
   "outputs": [
    {
     "name": "stdout",
     "output_type": "stream",
     "text": [
      "The sum of put volume is 7936696 and the sum of call volume is 11234814, additionally, the put call ratio is 0.7064376855727207\n"
     ]
    }
   ],
   "source": [
    "# Sum of puts\n",
    "sum_of_put_volume = filtered_df[filtered_df['type'] == 'put']['volume'].sum()\n",
    "\n",
    "# Sum of calls\n",
    "sum_of_call_volume = filtered_df[filtered_df['type'] == 'call']['volume'].sum()\n",
    "\n",
    "put_call_ratio = sum_of_put_volume / sum_of_call_volume\n",
    "\n",
    "print(f\"The sum of put volume is {sum_of_put_volume} and the sum of call volume is {sum_of_call_volume}, additionally, the put call ratio is {put_call_ratio}\")\n"
   ]
  },
  {
   "cell_type": "code",
   "execution_count": 73,
   "metadata": {},
   "outputs": [
    {
     "name": "stdout",
     "output_type": "stream",
     "text": [
      "contractID            object\n",
      "symbol                object\n",
      "expiration            object\n",
      "strike                object\n",
      "type                  object\n",
      "last                  object\n",
      "mark                  object\n",
      "bid                   object\n",
      "bid_size              object\n",
      "ask                   object\n",
      "ask_size              object\n",
      "volume                 int64\n",
      "open_interest         object\n",
      "date                  object\n",
      "implied_volatility    object\n",
      "delta                 object\n",
      "gamma                 object\n",
      "theta                 object\n",
      "vega                  object\n",
      "rho                   object\n",
      "volume_summed          int64\n",
      "dtype: object\n"
     ]
    }
   ],
   "source": [
    "print(filtered_df.dtypes)\n"
   ]
  },
  {
   "cell_type": "code",
   "execution_count": 77,
   "metadata": {},
   "outputs": [
    {
     "name": "stderr",
     "output_type": "stream",
     "text": [
      "C:\\Users\\david\\AppData\\Local\\Temp\\ipykernel_103556\\633977043.py:1: SettingWithCopyWarning: \n",
      "A value is trying to be set on a copy of a slice from a DataFrame.\n",
      "Try using .loc[row_indexer,col_indexer] = value instead\n",
      "\n",
      "See the caveats in the documentation: https://pandas.pydata.org/pandas-docs/stable/user_guide/indexing.html#returning-a-view-versus-a-copy\n",
      "  filtered_df['strike'] = pd.to_numeric(filtered_df['strike'], errors = 'coerce')\n",
      "C:\\Users\\david\\AppData\\Local\\Temp\\ipykernel_103556\\633977043.py:2: SettingWithCopyWarning: \n",
      "A value is trying to be set on a copy of a slice from a DataFrame.\n",
      "Try using .loc[row_indexer,col_indexer] = value instead\n",
      "\n",
      "See the caveats in the documentation: https://pandas.pydata.org/pandas-docs/stable/user_guide/indexing.html#returning-a-view-versus-a-copy\n",
      "  filtered_df['expiration'] = pd.to_datetime(filtered_df['expiration'])\n",
      "C:\\Users\\david\\AppData\\Local\\Temp\\ipykernel_103556\\633977043.py:3: SettingWithCopyWarning: \n",
      "A value is trying to be set on a copy of a slice from a DataFrame.\n",
      "Try using .loc[row_indexer,col_indexer] = value instead\n",
      "\n",
      "See the caveats in the documentation: https://pandas.pydata.org/pandas-docs/stable/user_guide/indexing.html#returning-a-view-versus-a-copy\n",
      "  filtered_df['last'] = pd.to_numeric(filtered_df['last'], errors = 'coerce')\n",
      "C:\\Users\\david\\AppData\\Local\\Temp\\ipykernel_103556\\633977043.py:4: SettingWithCopyWarning: \n",
      "A value is trying to be set on a copy of a slice from a DataFrame.\n",
      "Try using .loc[row_indexer,col_indexer] = value instead\n",
      "\n",
      "See the caveats in the documentation: https://pandas.pydata.org/pandas-docs/stable/user_guide/indexing.html#returning-a-view-versus-a-copy\n",
      "  filtered_df['bid'] = pd.to_numeric(filtered_df['bid'], errors = 'coerce')\n",
      "C:\\Users\\david\\AppData\\Local\\Temp\\ipykernel_103556\\633977043.py:5: SettingWithCopyWarning: \n",
      "A value is trying to be set on a copy of a slice from a DataFrame.\n",
      "Try using .loc[row_indexer,col_indexer] = value instead\n",
      "\n",
      "See the caveats in the documentation: https://pandas.pydata.org/pandas-docs/stable/user_guide/indexing.html#returning-a-view-versus-a-copy\n",
      "  filtered_df['ask'] = pd.to_numeric(filtered_df['ask'], errors = 'coerce')\n",
      "C:\\Users\\david\\AppData\\Local\\Temp\\ipykernel_103556\\633977043.py:6: SettingWithCopyWarning: \n",
      "A value is trying to be set on a copy of a slice from a DataFrame.\n",
      "Try using .loc[row_indexer,col_indexer] = value instead\n",
      "\n",
      "See the caveats in the documentation: https://pandas.pydata.org/pandas-docs/stable/user_guide/indexing.html#returning-a-view-versus-a-copy\n",
      "  filtered_df['volume'] = pd.to_numeric(filtered_df['volume'], errors = 'coerce')\n",
      "C:\\Users\\david\\AppData\\Local\\Temp\\ipykernel_103556\\633977043.py:7: SettingWithCopyWarning: \n",
      "A value is trying to be set on a copy of a slice from a DataFrame.\n",
      "Try using .loc[row_indexer,col_indexer] = value instead\n",
      "\n",
      "See the caveats in the documentation: https://pandas.pydata.org/pandas-docs/stable/user_guide/indexing.html#returning-a-view-versus-a-copy\n",
      "  filtered_df['open_interest'] = pd.to_numeric(filtered_df['open_interest'], errors = 'coerce')\n",
      "C:\\Users\\david\\AppData\\Local\\Temp\\ipykernel_103556\\633977043.py:8: SettingWithCopyWarning: \n",
      "A value is trying to be set on a copy of a slice from a DataFrame.\n",
      "Try using .loc[row_indexer,col_indexer] = value instead\n",
      "\n",
      "See the caveats in the documentation: https://pandas.pydata.org/pandas-docs/stable/user_guide/indexing.html#returning-a-view-versus-a-copy\n",
      "  filtered_df['ask_size'] = pd.to_numeric(filtered_df['ask_size'], errors = 'coerce')\n",
      "C:\\Users\\david\\AppData\\Local\\Temp\\ipykernel_103556\\633977043.py:9: SettingWithCopyWarning: \n",
      "A value is trying to be set on a copy of a slice from a DataFrame.\n",
      "Try using .loc[row_indexer,col_indexer] = value instead\n",
      "\n",
      "See the caveats in the documentation: https://pandas.pydata.org/pandas-docs/stable/user_guide/indexing.html#returning-a-view-versus-a-copy\n",
      "  filtered_df['bid_size'] = pd.to_numeric(filtered_df['bid_size'], errors = 'coerce')\n",
      "C:\\Users\\david\\AppData\\Local\\Temp\\ipykernel_103556\\633977043.py:10: SettingWithCopyWarning: \n",
      "A value is trying to be set on a copy of a slice from a DataFrame.\n",
      "Try using .loc[row_indexer,col_indexer] = value instead\n",
      "\n",
      "See the caveats in the documentation: https://pandas.pydata.org/pandas-docs/stable/user_guide/indexing.html#returning-a-view-versus-a-copy\n",
      "  filtered_df['mark'] = pd.to_numeric(filtered_df['mark'], errors = 'coerce')\n",
      "C:\\Users\\david\\AppData\\Local\\Temp\\ipykernel_103556\\633977043.py:11: SettingWithCopyWarning: \n",
      "A value is trying to be set on a copy of a slice from a DataFrame.\n",
      "Try using .loc[row_indexer,col_indexer] = value instead\n",
      "\n",
      "See the caveats in the documentation: https://pandas.pydata.org/pandas-docs/stable/user_guide/indexing.html#returning-a-view-versus-a-copy\n",
      "  filtered_df['date'] = pd.to_datetime(filtered_df['date'])\n",
      "C:\\Users\\david\\AppData\\Local\\Temp\\ipykernel_103556\\633977043.py:12: SettingWithCopyWarning: \n",
      "A value is trying to be set on a copy of a slice from a DataFrame.\n",
      "Try using .loc[row_indexer,col_indexer] = value instead\n",
      "\n",
      "See the caveats in the documentation: https://pandas.pydata.org/pandas-docs/stable/user_guide/indexing.html#returning-a-view-versus-a-copy\n",
      "  filtered_df['implied_volatility'] = pd.to_numeric(filtered_df['implied_volatility'], errors = 'coerce')\n",
      "C:\\Users\\david\\AppData\\Local\\Temp\\ipykernel_103556\\633977043.py:13: SettingWithCopyWarning: \n",
      "A value is trying to be set on a copy of a slice from a DataFrame.\n",
      "Try using .loc[row_indexer,col_indexer] = value instead\n",
      "\n",
      "See the caveats in the documentation: https://pandas.pydata.org/pandas-docs/stable/user_guide/indexing.html#returning-a-view-versus-a-copy\n",
      "  filtered_df['delta'] = pd.to_numeric(filtered_df['delta'], errors = 'coerce')\n",
      "C:\\Users\\david\\AppData\\Local\\Temp\\ipykernel_103556\\633977043.py:14: SettingWithCopyWarning: \n",
      "A value is trying to be set on a copy of a slice from a DataFrame.\n",
      "Try using .loc[row_indexer,col_indexer] = value instead\n",
      "\n",
      "See the caveats in the documentation: https://pandas.pydata.org/pandas-docs/stable/user_guide/indexing.html#returning-a-view-versus-a-copy\n",
      "  filtered_df['gamma'] = pd.to_numeric(filtered_df['gamma'], errors = 'coerce')\n",
      "C:\\Users\\david\\AppData\\Local\\Temp\\ipykernel_103556\\633977043.py:15: SettingWithCopyWarning: \n",
      "A value is trying to be set on a copy of a slice from a DataFrame.\n",
      "Try using .loc[row_indexer,col_indexer] = value instead\n",
      "\n",
      "See the caveats in the documentation: https://pandas.pydata.org/pandas-docs/stable/user_guide/indexing.html#returning-a-view-versus-a-copy\n",
      "  filtered_df['theta'] = pd.to_numeric(filtered_df['theta'], errors = 'coerce')\n",
      "C:\\Users\\david\\AppData\\Local\\Temp\\ipykernel_103556\\633977043.py:16: SettingWithCopyWarning: \n",
      "A value is trying to be set on a copy of a slice from a DataFrame.\n",
      "Try using .loc[row_indexer,col_indexer] = value instead\n",
      "\n",
      "See the caveats in the documentation: https://pandas.pydata.org/pandas-docs/stable/user_guide/indexing.html#returning-a-view-versus-a-copy\n",
      "  filtered_df['vega'] = pd.to_numeric(filtered_df['vega'], errors = 'coerce')\n",
      "C:\\Users\\david\\AppData\\Local\\Temp\\ipykernel_103556\\633977043.py:17: SettingWithCopyWarning: \n",
      "A value is trying to be set on a copy of a slice from a DataFrame.\n",
      "Try using .loc[row_indexer,col_indexer] = value instead\n",
      "\n",
      "See the caveats in the documentation: https://pandas.pydata.org/pandas-docs/stable/user_guide/indexing.html#returning-a-view-versus-a-copy\n",
      "  filtered_df['rho'] = pd.to_numeric(filtered_df['rho'], errors = 'coerce')\n"
     ]
    }
   ],
   "source": [
    "filtered_df['strike'] = pd.to_numeric(filtered_df['strike'], errors = 'coerce')\n",
    "filtered_df['expiration'] = pd.to_datetime(filtered_df['expiration'])\n",
    "filtered_df['last'] = pd.to_numeric(filtered_df['last'], errors = 'coerce')\n",
    "filtered_df['bid'] = pd.to_numeric(filtered_df['bid'], errors = 'coerce')\n",
    "filtered_df['ask'] = pd.to_numeric(filtered_df['ask'], errors = 'coerce')\n",
    "filtered_df['volume'] = pd.to_numeric(filtered_df['volume'], errors = 'coerce')\n",
    "filtered_df['open_interest'] = pd.to_numeric(filtered_df['open_interest'], errors = 'coerce')\n",
    "filtered_df['ask_size'] = pd.to_numeric(filtered_df['ask_size'], errors = 'coerce')\n",
    "filtered_df['bid_size'] = pd.to_numeric(filtered_df['bid_size'], errors = 'coerce')\n",
    "filtered_df['mark'] = pd.to_numeric(filtered_df['mark'], errors = 'coerce')\n",
    "filtered_df['date'] = pd.to_datetime(filtered_df['date'])\n",
    "filtered_df['implied_volatility'] = pd.to_numeric(filtered_df['implied_volatility'], errors = 'coerce')\n",
    "filtered_df['delta'] = pd.to_numeric(filtered_df['delta'], errors = 'coerce')\n",
    "filtered_df['gamma'] = pd.to_numeric(filtered_df['gamma'], errors = 'coerce')\n",
    "filtered_df['theta'] = pd.to_numeric(filtered_df['theta'], errors = 'coerce')\n",
    "filtered_df['vega'] = pd.to_numeric(filtered_df['vega'], errors = 'coerce')\n",
    "filtered_df['rho'] = pd.to_numeric(filtered_df['rho'], errors = 'coerce')\n",
    "\n"
   ]
  },
  {
   "cell_type": "markdown",
   "metadata": {},
   "source": [
    "## Vanna and Charm: Second Order Derivatives\n",
    "\n",
    "##### I will add these as these second order derivatives can help understand the market and value of the options."
   ]
  },
  {
   "cell_type": "code",
   "execution_count": 78,
   "metadata": {},
   "outputs": [
    {
     "name": "stderr",
     "output_type": "stream",
     "text": [
      "C:\\Users\\david\\AppData\\Local\\Temp\\ipykernel_103556\\2919229364.py:4: SettingWithCopyWarning: \n",
      "A value is trying to be set on a copy of a slice from a DataFrame.\n",
      "Try using .loc[row_indexer,col_indexer] = value instead\n",
      "\n",
      "See the caveats in the documentation: https://pandas.pydata.org/pandas-docs/stable/user_guide/indexing.html#returning-a-view-versus-a-copy\n",
      "  filtered_df['vanna'] = filtered_df['vega']*(filtered_df['delta']/filtered_df['implied_volatility'])\n",
      "C:\\Users\\david\\AppData\\Local\\Temp\\ipykernel_103556\\2919229364.py:5: SettingWithCopyWarning: \n",
      "A value is trying to be set on a copy of a slice from a DataFrame.\n",
      "Try using .loc[row_indexer,col_indexer] = value instead\n",
      "\n",
      "See the caveats in the documentation: https://pandas.pydata.org/pandas-docs/stable/user_guide/indexing.html#returning-a-view-versus-a-copy\n",
      "  filtered_df['charm'] = -1*(filtered_df['theta']*filtered_df['delta'])/filtered_df['last']\n"
     ]
    }
   ],
   "source": [
    "# vanna = vega * (delta/iv)\n",
    "# charm = (-theta*delta)/Spot price\n",
    "\n",
    "filtered_df['vanna'] = filtered_df['vega']*(filtered_df['delta']/filtered_df['implied_volatility'])\n",
    "filtered_df['charm'] = -1*(filtered_df['theta']*filtered_df['delta'])/filtered_df['last']"
   ]
  },
  {
   "cell_type": "markdown",
   "metadata": {},
   "source": [
    "## <font color ='pink'> Now let us create a large script to rank the strategies."
   ]
  },
  {
   "cell_type": "markdown",
   "metadata": {},
   "source": [
    "#### First thing first... the thesis.\n",
    "\n",
    "##### This script is unconcerned with the derivation of a thesis.\n",
    "\n",
    "##### Still we must understand how the thesis works, and its parts, so that we can model it adequately.\n",
    "\n",
    "##### So what are the parts of a trade thesis?\n",
    "\n",
    "##### The exact asset. Apple, Front Month Henry Hub Natural Gas, M2/M1 WTI\n",
    "\n",
    "##### Intended Direction. For price/vol etc. There are three directions. Up, down, and sideways.\n",
    "\n",
    "##### Core Rationale. OpenAI API?\n",
    "\n",
    "##### Defined Time Horizon.\n",
    "\n",
    "##### Catalysts\n",
    "\n",
    "##### Fundamental, technical, or quant analysis.\n",
    "\n",
    "##### Backtesting score\n",
    "\n",
    "##### Extremely precise entry standards (based on price data, technical or other indicators etc.)\n",
    "\n",
    "##### Extremely precise exit standards (profit target, time-based exit, invalidation of thesis)\n",
    "\n",
    "##### Position Sizing and Risk Management: What is the bankroll, what is the VaR, max drawdown constraints.\n",
    "\n",
    "##### Pain Threshold.\n",
    "\n",
    "##### Liquidity considerations.\n",
    "\n",
    "##### Contingency plans, for our purposes, these will be exit strategies."
   ]
  },
  {
   "cell_type": "code",
   "execution_count": null,
   "metadata": {},
   "outputs": [],
   "source": [
    "#How do we quantify these...\n",
    "\n",
    "#Exact asset: AAPL\n",
    "#Asset characteristic: Price\n",
    "#Intended direction: Up\n",
    "#Defined Time Horizon: Exactly 30 days.\n",
    "#Entry Strategy: When price breaks above 30-day MA.\n",
    "#Exit strategy: Whichever comes first -> \n",
    "#     Gain in excess of 7.5%, drawdown in excess of 5%, or 30 days.\n",
    "\n",
    "#Catalyst: N/A\n",
    "#AUM: $25,000\n",
    "#Risk Tolerance: 5% of AUM\n",
    "#Liquidity Considerations: High, but examined per strategy.\n",
    "\n",
    "\n",
    "def choose_a_strategy(api_key, ticker, intended_direction, time_horizon, entry_strategy, exit_strategy, catalyst, AUM, risk_tolerance, liquidity):\n",
    "    \n",
    "    df = get_historical_options_data(ticker, api_key)\n",
    "    expiration_dfs = create_expiration_dataframes(df)\n",
    "    \n",
    "    \n"
   ]
  }
 ],
 "metadata": {
  "kernelspec": {
   "display_name": "base",
   "language": "python",
   "name": "python3"
  },
  "language_info": {
   "codemirror_mode": {
    "name": "ipython",
    "version": 3
   },
   "file_extension": ".py",
   "mimetype": "text/x-python",
   "name": "python",
   "nbconvert_exporter": "python",
   "pygments_lexer": "ipython3",
   "version": "3.11.5"
  }
 },
 "nbformat": 4,
 "nbformat_minor": 2
}
